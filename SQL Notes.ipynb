{
 "cells": [
  {
   "cell_type": "markdown",
   "metadata": {},
   "source": [
    "### WINDOW FUNCITON"
   ]
  },
  {
   "cell_type": "code",
   "execution_count": null,
   "metadata": {},
   "outputs": [],
   "source": [
    "# accumulated sum\n",
    "SELECT SUM(weight) OVER(ORDER BY turn) FROM Queue"
   ]
  },
  {
   "cell_type": "code",
   "execution_count": null,
   "metadata": {},
   "outputs": [],
   "source": [
    "# accumulated sum by month- get sum for each month first-then subquery\n",
    "SELECT t.Month, SUM(t.Qty) OVER(ORDER BY Month) FROM\n",
    "    (SELECT MONTH(join_date) AS Month, COUNT(DISTINCT driver_id) AS Qty FROM Drivers\n",
    "    GROUP BY MONTH(join_date))t"
   ]
  },
  {
   "cell_type": "code",
   "execution_count": null,
   "metadata": {},
   "outputs": [],
   "source": [
    "# accumulate sum for each player, at that event date\n",
    "SELECT player_id, \n",
    "event_date, \n",
    "SUM(games_played) OVER(PARTITION BY player_id ORDER BY event_date) AS games_played_so_far FROM Activity "
   ]
  },
  {
   "cell_type": "markdown",
   "metadata": {},
   "source": [
    "### RANK OVER"
   ]
  },
  {
   "cell_type": "code",
   "execution_count": null,
   "metadata": {},
   "outputs": [],
   "source": [
    "SELECT *,DENSE_RANK() OVER(ORDER BY Salary DESC) AS rank FROM Employee\n",
    "#rank this column doesn't come with the table at the same time, which means:\n",
    "#can not use where 'rank'=1 directly below this query\n",
    "\n",
    "# 可以先rank，在select subset of the columns\n",
    "SELECT score, DENSE_RANK() OVER(ORDER BY Score DESC) AS Rank FROM Scores\n",
    "\n",
    "\n",
    "#MySQL\n",
    "# don't name a column using sensitive word, i.e: rank, instead using d_rank, r, ...\n",
    "SELECT DISTINCT t.Salary AS getNthHighestSalary FROM\n",
    "  (SELECT *, DENSE_RANK() OVER(ORDER BY Salary DESC) AS d_rank FROM Employee) AS t\n",
    "WHERE t.d_rank = N"
   ]
  },
  {
   "cell_type": "code",
   "execution_count": null,
   "metadata": {},
   "outputs": [],
   "source": [
    "SELECT customer_id, product_id, DENSE_RANK() OVER(PARTITION BY customer_id ORDER BY COUNT(order_id) DESC) AS Rank FROM Orders\n",
    "    GROUP BY customer_id, product_id"
   ]
  },
  {
   "cell_type": "code",
   "execution_count": null,
   "metadata": {},
   "outputs": [],
   "source": [
    "DENSE_RANK() OVER(ORDER BY Salary DESC) #111 2\n",
    "RANK() OVER(ORDER BY Salary DESC) #111 4\n",
    "ROW_NUMBER() OVER(ORDER BY Salary DESC) #1234"
   ]
  },
  {
   "cell_type": "code",
   "execution_count": null,
   "metadata": {},
   "outputs": [],
   "source": [
    "PERCENT_RANK() OVER(ORDER BY )"
   ]
  },
  {
   "cell_type": "code",
   "execution_count": null,
   "metadata": {},
   "outputs": [],
   "source": [
    "#PARTITION BY\n",
    "SELECT e.Name AS Employee, e.Salary AS Salary,d.Name AS Department, \n",
    " DENSE_RANK() OVER(PARTITION BY e.DepartmentId ORDER BY e.Salary DESC) AS rank FROM Employee e"
   ]
  },
  {
   "cell_type": "code",
   "execution_count": null,
   "metadata": {},
   "outputs": [],
   "source": [
    "# agg function in partition by \n",
    "\n",
    "WITH CTE AS\n",
    "    (SELECT*FROM\n",
    "        (SELECT customer_id, product_id, DENSE_RANK() OVER(PARTITION BY customer_id ORDER BY COUNT(customer_id) DESC) AS Rank FROM Orders\n",
    "        GROUP BY customer_id, product_id)t\n",
    "    WHERE t.Rank = 1\n",
    "    )"
   ]
  },
  {
   "cell_type": "code",
   "execution_count": null,
   "metadata": {},
   "outputs": [],
   "source": [
    "# multiple window function/WHERE statment in same query\n",
    "\n",
    "SELECT* FROM Student\n",
    "WHERE student_id NOT IN\n",
    "    (SELECT DISTINCT student_id FROM \n",
    "        (SELECT*,\n",
    "        DENSE_RANK() OVER(PARTITION BY exam_id ORDER BY score DESC) AS rank_high,\n",
    "        DENSE_RANK() OVER(PARTITION BY exam_id ORDER BY score) AS rank_low\n",
    "        FROM Exam)t\n",
    "    WHERE t.rank_high = 1 OR t.rank_low = 1)\n",
    "AND student_id IN (SELECT DISTINCT student_id FROM Exam)"
   ]
  },
  {
   "cell_type": "code",
   "execution_count": null,
   "metadata": {},
   "outputs": [],
   "source": [
    "# using MAX func to return NULL instead of nothing after a query\n",
    "\n",
    "# query 1\n",
    "SELECT MAX(t.Salary) AS SecondHighestSalary FROM \n",
    "    (SELECT*, DENSE_RANK() OVER(ORDER BY Salary DESC) AS rk FROM Employee)t\n",
    "WHERE t.rk = 2\n",
    "\n",
    "# query 2\n",
    "SELECT t.Salary AS SecondHighestSalary FROM \n",
    "    (SELECT*, DENSE_RANK() OVER(ORDER BY Salary DESC) AS rk FROM Employee)t\n",
    "WHERE t.rk = 2"
   ]
  },
  {
   "cell_type": "markdown",
   "metadata": {},
   "source": [
    "### Having vs Where clause"
   ]
  },
  {
   "cell_type": "code",
   "execution_count": null,
   "metadata": {},
   "outputs": [],
   "source": [
    "# having is against(and used after) aggregate function, e.g. sum\n",
    "# where is filering on raw data\n",
    "\n",
    "# where-groupby-having\n",
    "SELECT s.course, AVERAGE(s.score) as avg FROM Student s\n",
    "WHERE s.age > 18\n",
    "GROUP BY s.course\n",
    "HAVING avg < 60\n",
    "\n",
    "# having average(score)>90"
   ]
  },
  {
   "cell_type": "markdown",
   "metadata": {},
   "source": [
    "### CASE WHEN"
   ]
  },
  {
   "cell_type": "code",
   "execution_count": null,
   "metadata": {},
   "outputs": [],
   "source": [
    "SELECT\n",
    "CASE\n",
    "    WHEN id%2=0 THEN id-1\n",
    "    WHEN id=(SELECT COUNT(*) FROM seat) THEN id\n",
    "    ELSE id+1\n",
    "END id #只对id 这一列操作\n",
    ",student FROM seat\n",
    "ORDER BY id\n",
    "#generate the column when searching at the same time"
   ]
  },
  {
   "cell_type": "code",
   "execution_count": null,
   "metadata": {},
   "outputs": [],
   "source": [
    "SELECT \n",
    "CASE \n",
    "    WHEN A=B AND B=C THEN 'Equilateral'\n",
    "    WHEN A+B<=C OR B+C<=A OR A+C<=B THEN 'Not A Triangle'\n",
    "    WHEN A+B>C AND B+C>A AND A+C>B AND A!=B AND B!=C AND C!=A THEN 'Scalene'\n",
    "    ELSE 'Isosceles'\n",
    "END AS Result\n",
    "FROM TRIANGLES "
   ]
  },
  {
   "cell_type": "markdown",
   "metadata": {},
   "source": [
    "### CHANGE WITH DATE FORMAT(2019/9/12)"
   ]
  },
  {
   "cell_type": "code",
   "execution_count": null,
   "metadata": {},
   "outputs": [],
   "source": [
    "#USE DATEDIFF()\n",
    "SELECT w1.Id FROM Weather w1 LEFT JOIN Weather w2 \n",
    "ON DATEDIFF(Day,w2.RecordDate,w1.RecordDate)=1 #w1-w2\n",
    "WHERE w1.Temperature>w2.Temperature"
   ]
  },
  {
   "cell_type": "markdown",
   "metadata": {},
   "source": [
    "### SELECT TABLE ALIAS"
   ]
  },
  {
   "cell_type": "code",
   "execution_count": 2,
   "metadata": {},
   "outputs": [],
   "source": [
    "#Format\n",
    "#SELECT T1.Name FROM (SELECT NAME,RANK()OVER(ORDER BY SCORE DESC) rank FROM TABLE1) AS T1"
   ]
  },
  {
   "cell_type": "code",
   "execution_count": null,
   "metadata": {},
   "outputs": [],
   "source": [
    "SELECT * FROM\n",
    "(SELECT Name,ROW_NUMBER() OVER(ORDER BY Name) AS Row FROM OCCUPATIONS\n",
    "WHERE Occupation='Doctor') AS d,\n",
    "(SELECT Name,ROW_NUMBER() OVER(ORDER BY Name) AS Row FROM OCCUPATIONS\n",
    "WHERE Occupation='Professor') AS p"
   ]
  },
  {
   "cell_type": "markdown",
   "metadata": {},
   "source": [
    "### CTE: WITH AS ..."
   ]
  },
  {
   "cell_type": "code",
   "execution_count": null,
   "metadata": {},
   "outputs": [],
   "source": [
    "# create a temp table\n",
    "# be able to do later manipulation on that table\n",
    "\n",
    "#FORMAT\n",
    "WITH NewTableOne AS(\n",
    "SELCT* FROM t\n",
    "WHERE t.score > 60\n",
    "    ...\n",
    ")\n",
    "SELECT * FROM NewTableOne t1\n",
    "INNER JOIN NewTableOne t2\n",
    "ON t1.timestamp = t2.timestamp AND t1.RackNo+t2.Rack = 3"
   ]
  },
  {
   "cell_type": "code",
   "execution_count": null,
   "metadata": {},
   "outputs": [],
   "source": [
    "# two CTE statements\n",
    "WITH CTE_1 AS\n",
    "    (SELECT COUNT(DISTINCT(CONCAT(sender_id, send_to_id))) AS fr FROM FriendRequest),\n",
    "    CTE_2 AS \n",
    "    (SELECT COUNT(DISTINCT(CONCAT(requester_id, accepter_id))) AS ra FROM RequestAccepted)"
   ]
  },
  {
   "cell_type": "code",
   "execution_count": null,
   "metadata": {},
   "outputs": [],
   "source": [
    "# recursive CTE-generate a month table\n",
    "WITH CTE AS\n",
    "(\n",
    "    SELECT 1 AS Month\n",
    "    UNION ALL  # can only use UNION ALL but not UNION\n",
    "    SELECT Month+1 FROM CTE\n",
    "    WHERE Month < 12\n",
    ")"
   ]
  },
  {
   "cell_type": "code",
   "execution_count": null,
   "metadata": {},
   "outputs": [],
   "source": [
    "# mysql\n",
    "WITH RECURSIVE MONTH_CTE AS(\n",
    "    SELECT 1 AS Month \n",
    "    UNION ALL\n",
    "    SELECT Month+1 FROM MONTH_CTE\n",
    "    WHERE Month < 12\n",
    "),"
   ]
  },
  {
   "cell_type": "code",
   "execution_count": null,
   "metadata": {},
   "outputs": [],
   "source": [
    "WITH Month_CTE AS\n",
    "(\n",
    "    SELECT 1 AS Month\n",
    "    UNION ALL\n",
    "    SELECT Month+1 FROM Month_CTE\n",
    "    WHERE Month < 12\n",
    "),\n",
    "\n",
    "CTE_1 AS(\n",
    "    SELECT t2.Month, COUNT(DISTINCT t2.driver_id) AS active_drivers FROM\n",
    "        (SELECT* FROM Month_CTE m\n",
    "        LEFT JOIN(\n",
    "            SELECT \n",
    "            CASE \n",
    "                WHEN YEAR(join_date)=2019 THEN 1\n",
    "                ELSE MONTH(join_date)\n",
    "            End AS Month_d, driver_id\n",
    "            FROM Drivers d \n",
    "            WHERE YEAR(join_date) < 2021\n",
    "        )d ON m.Month >= d.Month_d) t2\n",
    "    GROUP BY t2.Month\n",
    "),\n",
    "\n",
    "CTE_2 AS(\n",
    "    SELECT t3.Month_r, COUNT(DISTINCT(t3.ride_id)) AS accepted_rides FROM\n",
    "        (SELECT\n",
    "        CASE\n",
    "            WHEN YEAR(requested_at)= 2019 THEN 1\n",
    "            ELSE MONTH(requested_at)\n",
    "        END AS Month_r, ride_id AS ride_id\n",
    "        FROM AcceptedRides a\n",
    "        LEFT JOIN Rides r ON a.ride_id = r.ride_id\n",
    "        WHERE YEAR(r.requested_at) < 2021) t3\n",
    "    GROUP BY t3.Month_r\n",
    ")\n",
    "\n",
    "SELECT CTE_1.Month,CTE_1.active_drivers, ISNULL(CTE_2.accepted_rides,0) FROM CTE_1\n",
    "LEFT JOIN CTE_2 ON CTE_1.Month = CTE_2.Month_r"
   ]
  },
  {
   "cell_type": "markdown",
   "metadata": {},
   "source": [
    "### ORDER BY"
   ]
  },
  {
   "cell_type": "code",
   "execution_count": null,
   "metadata": {},
   "outputs": [],
   "source": [
    "# ORDER BY aggregation function\n",
    "SELECT TOP 1 customer_number FROM Orders\n",
    "GROUP BY customer_number\n",
    "ORDER BY COUNT(order_number) DESC"
   ]
  },
  {
   "cell_type": "markdown",
   "metadata": {},
   "source": [
    "### GROUP BY"
   ]
  },
  {
   "cell_type": "code",
   "execution_count": null,
   "metadata": {},
   "outputs": [],
   "source": [
    "# GROUP BY not necessiary to call- group by column, can just call agg columns\n",
    "SELECT MIN(t.log_id) AS start_id, MAX(t.log_id) AS end_id FROM\n",
    "    (SELECT *, ROW_NUMBER() OVER(ORDER BY log_id ) AS row_no FROM Logs)t\n",
    "GROUP BY t.log_id - t.row_no"
   ]
  },
  {
   "cell_type": "markdown",
   "metadata": {},
   "source": [
    "### JOIN"
   ]
  },
  {
   "cell_type": "code",
   "execution_count": null,
   "metadata": {},
   "outputs": [],
   "source": [
    "SELECT* FROM Activity a1\n",
    "INNER JOIN Activity a2 \n",
    "ON a1.machine_id = a2.machine_id AND a1.process_id = a2.process_id\n",
    "AND a1.activity_type = 'end' AND a2.activity_type = 'start'"
   ]
  },
  {
   "cell_type": "code",
   "execution_count": null,
   "metadata": {},
   "outputs": [],
   "source": [
    "# use less subquery!\n",
    "SELECT a1.machine_id, ROUND(AVG(a1.timestamp-a2.timestamp),3) AS processing_time FROM Activity a1\n",
    "INNER JOIN Activity a2 \n",
    "ON a1.machine_id = a2.machine_id AND a1.process_id = a2.process_id\n",
    "AND a1.activity_type = 'end' AND a2.activity_type = 'start'\n",
    "GROUP BY a1.machine_id"
   ]
  },
  {
   "cell_type": "markdown",
   "metadata": {},
   "source": [
    "### MULTPLE JOIN"
   ]
  },
  {
   "cell_type": "code",
   "execution_count": null,
   "metadata": {},
   "outputs": [],
   "source": [
    "#Join consecutively\n",
    "SELECT*FROM a\n",
    "JOIN b ON a.Id=b.Id \n",
    "Join c ON b.Id=c.Id\n",
    "a--b--c\n",
    "reference:https://www.interfacett.com/blogs/multiple-joins-work-just-like-single-joins/"
   ]
  },
  {
   "cell_type": "code",
   "execution_count": null,
   "metadata": {},
   "outputs": [],
   "source": [
    "SELECT d.Name,p.Name,s.Name,a.Name FROM\n",
    "(SELECT Name,ROW_NUMBER() OVER(ORDER BY Name) AS Row FROM OCCUPATIONS\n",
    "WHERE Occupation='Doctor') AS d\n",
    "FULL OUTER JOIN \n",
    "(SELECT Name,ROW_NUMBER() OVER(ORDER BY Name) AS Row FROM OCCUPATIONS\n",
    "WHERE Occupation='Professor') AS p\n",
    "ON d.Row=p.Row\n",
    "FULL OUTER JOIN \n",
    "(SELECT Name,ROW_NUMBER() OVER(ORDER BY Name) AS Row FROM OCCUPATIONS\n",
    "WHERE Occupation='Singer') AS s\n",
    "ON p.Row=s.Row\n",
    "FULL OUTER JOIN \n",
    "(SELECT Name,ROW_NUMBER() OVER(ORDER BY Name) AS Row FROM OCCUPATIONS\n",
    "WHERE Occupation='Actor') AS a\n",
    "ON s.Row=a.Row"
   ]
  },
  {
   "cell_type": "markdown",
   "metadata": {},
   "source": [
    "### JOIN BY (i1,i2)"
   ]
  },
  {
   "cell_type": "code",
   "execution_count": null,
   "metadata": {},
   "outputs": [],
   "source": [
    "SELECT\n",
    "ROUND(MIN(SQRT(POWER((p1.x-p2.x),2)+POWER((p1.y-p2.y), 2))), 2) AS shortest\n",
    "FROM point_2d p1\n",
    "INNER JOIN point_2d p2 ON (p1.x,p1.y) != (p2.x,p2.y)"
   ]
  },
  {
   "cell_type": "markdown",
   "metadata": {},
   "source": [
    "### Calculate percentage%"
   ]
  },
  {
   "cell_type": "code",
   "execution_count": null,
   "metadata": {},
   "outputs": [],
   "source": [
    "SELECT\n",
    "t.Request_at AS Day,\n",
    "ROUND(SUM(CASE WHEN t.Status Like 'cancelled%' Then 1 ELSE 0 END)/COUNT(t.id), 2)  AS Cancellation_Rate\n",
    "FROM Trips t\n",
    "INNER JOIN Users uc ON t.Client_Id = uc.Users_Id\n",
    "INNER JOIN Users ud ON t.Driver_Id = ud.Users_Id\n",
    "WHERE uc.Banned = 'No' AND ud.Banned = 'No' AND t.Request_at Between '2013-10-01' AND '2013-10-03'\n",
    "GROUP BY t.Request_at"
   ]
  },
  {
   "cell_type": "markdown",
   "metadata": {},
   "source": [
    "### TOP1"
   ]
  },
  {
   "cell_type": "code",
   "execution_count": null,
   "metadata": {},
   "outputs": [],
   "source": [
    "SELECT TOP 1 requester_id AS id, COUNT(accepter_id) AS num FROM\n",
    "    (SELECT* FROM request_accepted\n",
    "    UNION\n",
    "    SELECT accepter_id, requester_id, accept_date FROM request_accepted) t\n",
    "GROUP BY requester_id\n",
    "ORDER BY num DESC"
   ]
  },
  {
   "cell_type": "markdown",
   "metadata": {},
   "source": [
    "### Between and "
   ]
  },
  {
   "cell_type": "code",
   "execution_count": null,
   "metadata": {},
   "outputs": [],
   "source": [
    "# small note for GROUPBY!!!\n",
    "# we can:\n",
    "SELECT DISTINCT col_a FROM\n",
    "GROUP BY col_a, col_b\n",
    "HAVING COUNT(DISTINCT col_b) >= 4"
   ]
  },
  {
   "cell_type": "code",
   "execution_count": null,
   "metadata": {},
   "outputs": [],
   "source": [
    "# https://docs.microsoft.com/en-us/sql/t-sql/language-elements/exists-transact-sql?view=sql-server-ver15\n",
    "\n",
    "SELECT DISTINCT l1.id FROM Logins l1\n",
    "    INNER JOIN Logins l2 ON l1.id = l2.id AND DATEDIFF(day, l1.login_date, l2.login_date) BETWEEN 1 AND 4\n",
    "    GROUP BY l1.id, l1.login_date\n",
    "    HAVING COUNT(DISTINCT l2.login_date) = 4"
   ]
  },
  {
   "cell_type": "markdown",
   "metadata": {},
   "source": [
    "### Union/Union all/INTERCEPT/EXCEPT"
   ]
  },
  {
   "cell_type": "code",
   "execution_count": null,
   "metadata": {},
   "outputs": [],
   "source": [
    "SELECT DISTINCT customer_id FROM Orders \n",
    "WHERE product_name = 'A' \n",
    "INTERSECT\n",
    "SELECT DISTINCT customer_id FROM Orders \n",
    "WHERE product_name = 'B' \n",
    "EXCEPT \n",
    "SELECT DISTINCT customer_id FROM Orders\n",
    "WHERE product_name = 'C'"
   ]
  },
  {
   "cell_type": "markdown",
   "metadata": {},
   "source": [
    "### PERCEDING"
   ]
  },
  {
   "cell_type": "code",
   "execution_count": null,
   "metadata": {},
   "outputs": [],
   "source": [
    "# SUM previous 10(n) rows to current row--rolling\n",
    "#  i will have sum(index-3, index-2, index-1) in current row\n",
    "\n",
    "SUM(DC_CURRENT) OVER(PARTITION BY \"RackNo\"\n",
    "                    ORDER BY \"Timestamp\"\n",
    "                    ROWS BETWEEN 3 PRECEDING AND 1 PRECEDING) AS \"DC_CURRENT_SUM_3\""
   ]
  },
  {
   "cell_type": "markdown",
   "metadata": {},
   "source": [
    "### ISNULL"
   ]
  },
  {
   "cell_type": "code",
   "execution_count": null,
   "metadata": {},
   "outputs": [],
   "source": [
    "ISNULL(CTE_2.accepted_rides,0)"
   ]
  },
  {
   "cell_type": "markdown",
   "metadata": {},
   "source": [
    "### MAX-MIN"
   ]
  },
  {
   "cell_type": "code",
   "execution_count": null,
   "metadata": {},
   "outputs": [],
   "source": [
    "SELECT (MAX(POPULATION)-MIN(POPULATION)) a FROM CITY#can be done in one step"
   ]
  },
  {
   "cell_type": "markdown",
   "metadata": {},
   "source": [
    "### MEDIAN"
   ]
  },
  {
   "cell_type": "code",
   "execution_count": null,
   "metadata": {},
   "outputs": [],
   "source": [
    "SELECT DISTINCT PERCENTILE_CONT(0.5) WITHIN GROUP (ORDER BY LAT_N) OVER () FROM STATION \n",
    "#if you want to get percentile in a subgroup you can do partition by in over clause"
   ]
  },
  {
   "cell_type": "markdown",
   "metadata": {},
   "source": [
    "### REMOVE 0 IN NUMBERS"
   ]
  },
  {
   "cell_type": "code",
   "execution_count": null,
   "metadata": {},
   "outputs": [],
   "source": [
    "SELECT DISTINCT\n",
    "CEILING(AVG(Salary)-\n",
    "AVG(CAST(REPLACE(STR(Salary),'0','') AS INT)) )+1\n",
    "FROM EMPLOYEES\n",
    "#CEILING ROUND TO LOWEST INTERGER"
   ]
  },
  {
   "cell_type": "markdown",
   "metadata": {},
   "source": [
    "### TIMESTAMP"
   ]
  },
  {
   "cell_type": "code",
   "execution_count": null,
   "metadata": {},
   "outputs": [],
   "source": [
    "#SELECT id FROM TABLE WHERE YEAR(FROM_UNIXTIME(creation_date)) = 2010\n",
    "YEAR(CAST(timestamp AS DATE))=2018"
   ]
  },
  {
   "cell_type": "markdown",
   "metadata": {},
   "source": [
    "### MULTIPLY 1 COLUMN TO ANOTHER& SUBQUERY FROM A TEMPORARY TABLE"
   ]
  },
  {
   "cell_type": "code",
   "execution_count": null,
   "metadata": {},
   "outputs": [],
   "source": [
    "SELECT* FROM\n",
    "(SELECT (months*salary) AS earnings,DENSE_RANK() OVER(ORDER BY months*salary DESC) rank FROM Employee) AS T"
   ]
  },
  {
   "cell_type": "markdown",
   "metadata": {},
   "source": [
    "### ROUNDS TO 2 DECIMAL"
   ]
  },
  {
   "cell_type": "code",
   "execution_count": null,
   "metadata": {},
   "outputs": [],
   "source": [
    "33.3333\n",
    "# DECIMAL -33.00\n",
    "# ROUND 2 - 33.33\n",
    "\n",
    "SELECT CONVERT(DECIMAL(10,2),SUM(LAT_N)) FROM table1#123.45\n",
    "\n",
    "ROUND(AVG(c1.POPULATION),1)#round to nearest integer"
   ]
  },
  {
   "cell_type": "markdown",
   "metadata": {},
   "source": [
    "### SELECT TWO DIGITS OPERATION"
   ]
  },
  {
   "cell_type": "code",
   "execution_count": null,
   "metadata": {},
   "outputs": [],
   "source": [
    "SELECT ROUND(100.0* t1.immediate_delivery/ t2.all_delivery, 2) AS immediate_percentage FROM \n",
    "    (SELECT COUNT(delivery_id) AS immediate_delivery FROM Delivery\n",
    "    WHERE order_date = customer_pref_delivery_date) t1,\n",
    "    (SELECT COUNT(delivery_id) AS all_delivery FROM Delivery) t2"
   ]
  },
  {
   "cell_type": "markdown",
   "metadata": {},
   "source": [
    "### TOP 10 PERCENT"
   ]
  },
  {
   "cell_type": "code",
   "execution_count": null,
   "metadata": {},
   "outputs": [],
   "source": [
    "SELECT NTILE(10) OVER(ORDER BY ID) FROM STATION "
   ]
  },
  {
   "cell_type": "code",
   "execution_count": null,
   "metadata": {},
   "outputs": [],
   "source": [
    "### UPPER/LOWERCASE\n",
    "CONCAT(UPPER(SUBSTRING(name,1,1)),LOWER(SUBSTRING(name,2,LENGTH(NAME))))"
   ]
  }
 ],
 "metadata": {
  "kernelspec": {
   "display_name": "Python 3",
   "language": "python",
   "name": "python3"
  },
  "language_info": {
   "codemirror_mode": {
    "name": "ipython",
    "version": 3
   },
   "file_extension": ".py",
   "mimetype": "text/x-python",
   "name": "python",
   "nbconvert_exporter": "python",
   "pygments_lexer": "ipython3",
   "version": "3.8.5"
  }
 },
 "nbformat": 4,
 "nbformat_minor": 2
}
