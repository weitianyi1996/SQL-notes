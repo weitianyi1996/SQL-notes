{
 "cells": [
  {
   "cell_type": "markdown",
   "metadata": {},
   "source": [
    "### WINDOW FUNCITON"
   ]
  },
  {
   "cell_type": "markdown",
   "metadata": {},
   "source": [
    "### RANK OVER"
   ]
  },
  {
   "cell_type": "code",
   "execution_count": null,
   "metadata": {},
   "outputs": [],
   "source": [
    "SELECT *,DENSE_RANK() OVER(ORDER BY Salary DESC) AS rank FROM Employee\n",
    "#rank this column doesn't come with the table at the same time, which means:\n",
    "#can not use where 'rank'=1 directly below this query\n",
    "\n",
    "# 可以先rank，在select subset of the columns\n",
    "SELECT score, DENSE_RANK() OVER(ORDER BY Score DESC) AS Rank FROM Scores"
   ]
  },
  {
   "cell_type": "code",
   "execution_count": null,
   "metadata": {},
   "outputs": [],
   "source": [
    "DENSE_RANK() OVER(ORDER BY Salary DESC) #111 2\n",
    "RANK() OVER(ORDER BY Salary DESC) #111 4\n",
    "ROW_NUMBER() OVER(ORDER BY Salary DESC) #1234"
   ]
  },
  {
   "cell_type": "code",
   "execution_count": null,
   "metadata": {},
   "outputs": [],
   "source": [
    "PERCENT_RANK() OVER(ORDER BY )"
   ]
  },
  {
   "cell_type": "code",
   "execution_count": null,
   "metadata": {},
   "outputs": [],
   "source": [
    "#PARTITION BY\n",
    "SELECT e.Name AS Employee, e.Salary AS Salary,d.Name AS Department, \n",
    " DENSE_RANK() OVER(PARTITION BY e.DepartmentId ORDER BY e.Salary DESC) AS rank FROM Employee e"
   ]
  },
  {
   "cell_type": "markdown",
   "metadata": {},
   "source": [
    "### CASE WHEN"
   ]
  },
  {
   "cell_type": "code",
   "execution_count": null,
   "metadata": {},
   "outputs": [],
   "source": [
    "SELECT\n",
    "CASE\n",
    "    WHEN id%2=0 THEN id-1\n",
    "    WHEN id=(SELECT COUNT(*) FROM seat) THEN id\n",
    "    ELSE id+1\n",
    "END id #只对id 这一列操作\n",
    ",student FROM seat\n",
    "ORDER BY id\n",
    "#generate the column when searching at the same time"
   ]
  },
  {
   "cell_type": "code",
   "execution_count": null,
   "metadata": {},
   "outputs": [],
   "source": [
    "SELECT \n",
    "CASE \n",
    "    WHEN A=B AND B=C THEN 'Equilateral'\n",
    "    WHEN A+B<=C OR B+C<=A OR A+C<=B THEN 'Not A Triangle'\n",
    "    WHEN A+B>C AND B+C>A AND A+C>B AND A!=B AND B!=C AND C!=A THEN 'Scalene'\n",
    "    ELSE 'Isosceles'\n",
    "END AS Result\n",
    "FROM TRIANGLES "
   ]
  },
  {
   "cell_type": "markdown",
   "metadata": {},
   "source": [
    "### CHANGE WITH DATE FORMAT(2019/9/12)"
   ]
  },
  {
   "cell_type": "code",
   "execution_count": null,
   "metadata": {},
   "outputs": [],
   "source": [
    "#USE DATEDIFF()\n",
    "SELECT w1.Id FROM Weather w1 LEFT JOIN Weather w2 \n",
    "ON DATEDIFF(Day,w2.RecordDate,w1.RecordDate)=1 #w1-w2\n",
    "WHERE w1.Temperature>w2.Temperature"
   ]
  },
  {
   "cell_type": "markdown",
   "metadata": {},
   "source": [
    "### SELECT TABLE ALIAS"
   ]
  },
  {
   "cell_type": "code",
   "execution_count": 2,
   "metadata": {},
   "outputs": [],
   "source": [
    "#Format\n",
    "#SELECT T1.Name FROM (SELECT NAME,RANK()OVER(ORDER BY SCORE DESC) rank FROM TABLE1) AS T1"
   ]
  },
  {
   "cell_type": "code",
   "execution_count": null,
   "metadata": {},
   "outputs": [],
   "source": [
    "SELECT * FROM\n",
    "(SELECT Name,ROW_NUMBER() OVER(ORDER BY Name) AS Row FROM OCCUPATIONS\n",
    "WHERE Occupation='Doctor') AS d,\n",
    "(SELECT Name,ROW_NUMBER() OVER(ORDER BY Name) AS Row FROM OCCUPATIONS\n",
    "WHERE Occupation='Professor') AS p"
   ]
  },
  {
   "cell_type": "markdown",
   "metadata": {},
   "source": [
    "### MULTPLE JOIN"
   ]
  },
  {
   "cell_type": "code",
   "execution_count": null,
   "metadata": {},
   "outputs": [],
   "source": [
    "#Join consecutively\n",
    "SELECT*FROM a\n",
    "JOIN b ON a.Id=b.Id \n",
    "Join c ON b.Id=c.Id\n",
    "a--b--c\n",
    "reference:https://www.interfacett.com/blogs/multiple-joins-work-just-like-single-joins/"
   ]
  },
  {
   "cell_type": "code",
   "execution_count": null,
   "metadata": {},
   "outputs": [],
   "source": [
    "SELECT d.Name,p.Name,s.Name,a.Name FROM\n",
    "(SELECT Name,ROW_NUMBER() OVER(ORDER BY Name) AS Row FROM OCCUPATIONS\n",
    "WHERE Occupation='Doctor') AS d\n",
    "FULL OUTER JOIN \n",
    "(SELECT Name,ROW_NUMBER() OVER(ORDER BY Name) AS Row FROM OCCUPATIONS\n",
    "WHERE Occupation='Professor') AS p\n",
    "ON d.Row=p.Row\n",
    "FULL OUTER JOIN \n",
    "(SELECT Name,ROW_NUMBER() OVER(ORDER BY Name) AS Row FROM OCCUPATIONS\n",
    "WHERE Occupation='Singer') AS s\n",
    "ON p.Row=s.Row\n",
    "FULL OUTER JOIN \n",
    "(SELECT Name,ROW_NUMBER() OVER(ORDER BY Name) AS Row FROM OCCUPATIONS\n",
    "WHERE Occupation='Actor') AS a\n",
    "ON s.Row=a.Row"
   ]
  },
  {
   "cell_type": "markdown",
   "metadata": {},
   "source": [
    "### MAX-MIN"
   ]
  },
  {
   "cell_type": "code",
   "execution_count": null,
   "metadata": {},
   "outputs": [],
   "source": [
    "SELECT (MAX(POPULATION)-MIN(POPULATION)) a FROM CITY#can be done in one step"
   ]
  },
  {
   "cell_type": "markdown",
   "metadata": {},
   "source": [
    "### MEDIAN"
   ]
  },
  {
   "cell_type": "code",
   "execution_count": null,
   "metadata": {},
   "outputs": [],
   "source": [
    "SELECT DISTINCT PERCENTILE_CONT(0.5) WITHIN GROUP (ORDER BY LAT_N) OVER () FROM STATION \n",
    "#if you want to get percentile in a subgroup you can do partition by in over clause"
   ]
  },
  {
   "cell_type": "markdown",
   "metadata": {},
   "source": [
    "### REMOVE 0 IN NUMBERS"
   ]
  },
  {
   "cell_type": "code",
   "execution_count": null,
   "metadata": {},
   "outputs": [],
   "source": [
    "SELECT DISTINCT\n",
    "CEILING(AVG(Salary)-\n",
    "AVG(CAST(REPLACE(STR(Salary),'0','') AS INT)) )+1\n",
    "FROM EMPLOYEES\n",
    "#CEILING ROUND TO LOWEST INTERGER"
   ]
  },
  {
   "cell_type": "markdown",
   "metadata": {},
   "source": [
    "### TIME STAMP"
   ]
  },
  {
   "cell_type": "code",
   "execution_count": null,
   "metadata": {},
   "outputs": [],
   "source": [
    "#SELECT id FROM TABLE WHERE YEAR(FROM_UNIXTIME(creation_date)) = 2010\n",
    "YEAR(CAST(timestamp AS DATE))=2018"
   ]
  },
  {
   "cell_type": "markdown",
   "metadata": {},
   "source": [
    "### MULTIPLY 1 COLUMN TO ANOTHER& SUBQUERY FROM A TEMPORARY TABLE"
   ]
  },
  {
   "cell_type": "code",
   "execution_count": null,
   "metadata": {},
   "outputs": [],
   "source": [
    "SELECT* FROM\n",
    "(SELECT (months*salary) AS earnings,DENSE_RANK() OVER(ORDER BY months*salary DESC) rank FROM Employee) AS T"
   ]
  },
  {
   "cell_type": "markdown",
   "metadata": {},
   "source": [
    "### ROUNDS TO 2 DECIMAL"
   ]
  },
  {
   "cell_type": "code",
   "execution_count": null,
   "metadata": {},
   "outputs": [],
   "source": [
    "SELECT CONVERT(DECIMAL(10,2),SUM(LAT_N)) FROM table1#123.45\n",
    "\n",
    "ROUND(AVG(c1.POPULATION),1)#round to nearest integer"
   ]
  },
  {
   "cell_type": "markdown",
   "metadata": {},
   "source": [
    "### TOP 10 PERCENT"
   ]
  },
  {
   "cell_type": "code",
   "execution_count": null,
   "metadata": {},
   "outputs": [],
   "source": [
    "SELECT NTILE(10) OVER(ORDER BY ID) FROM STATION "
   ]
  }
 ],
 "metadata": {
  "kernelspec": {
   "display_name": "Python 3",
   "language": "python",
   "name": "python3"
  },
  "language_info": {
   "codemirror_mode": {
    "name": "ipython",
    "version": 3
   },
   "file_extension": ".py",
   "mimetype": "text/x-python",
   "name": "python",
   "nbconvert_exporter": "python",
   "pygments_lexer": "ipython3",
   "version": "3.8.5"
  }
 },
 "nbformat": 4,
 "nbformat_minor": 2
}
